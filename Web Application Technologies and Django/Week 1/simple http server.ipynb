{
 "cells": [
  {
   "cell_type": "code",
   "execution_count": null,
   "metadata": {},
   "outputs": [],
   "source": [
    "# https://docs.python.org/3/howto/sockets.html\n",
    "# https://stackoverflow.com/questions/8627986/how-to-keep-a-socket-open-until-client-closes-it\n",
    "# https://stackoverflow.com/questions/10091271/how-can-i-implement-a-simple-web-server-using-python-without-using-any-libraries\n"
   ]
  },
  {
   "cell_type": "code",
   "execution_count": null,
   "metadata": {},
   "outputs": [
    {
     "name": "stdout",
     "output_type": "stream",
     "text": [
      "Access http://localhost:9000\n"
     ]
    }
   ],
   "source": [
    "#taking phone call as an example\n",
    "\n",
    "from socket import *\n",
    "\n",
    "def createServer():\n",
    "    serversocket = socket(AF_INET, SOCK_STREAM) #make a socket\n",
    "    try :\n",
    "        serversocket.bind(('localhost',9000)) #i am willing to recieve a phone call (msg) on port 9000\n",
    "        serversocket.listen(5) #you are asking operating sys to que 5 incomming call (teporary hold)\n",
    "        while(1):\n",
    "            (clientsocket, address) = serversocket.accept() #i am at the phone call, registered my number and port. the next line will run only when the phone call is recieved\n",
    "            #the server knows that the client speaks first\n",
    "            rd = clientsocket.recv(5000).decode()  #so it recieves\n",
    "            pieces = rd.split(\"\\n\")\n",
    "            if ( len(pieces) > 0 ) : print(pieces[0])\n",
    "\n",
    "            data = \"HTTP/1.1 200 OK\\r\\n\"\n",
    "            data += \"Content-Type: text/html; charset=utf-8\\r\\n\"\n",
    "            data += \"\\r\\n\"\n",
    "            data += \"<html><body>Hello World</body></html>\\r\\n\\r\\n\"\n",
    "            clientsocket.sendall(data.encode())\n",
    "            clientsocket.shutdown(SHUT_WR)\n",
    "\n",
    "    except KeyboardInterrupt :\n",
    "        print(\"\\nShutting down...\\n\");\n",
    "    except Exception as exc :\n",
    "        print(\"Error:\\n\");\n",
    "        print(exc)\n",
    "\n",
    "    serversocket.close()\n",
    "\n",
    "print('Access http://localhost:9000')\n",
    "createServer()"
   ]
  },
  {
   "cell_type": "code",
   "execution_count": null,
   "metadata": {},
   "outputs": [],
   "source": []
  }
 ],
 "metadata": {
  "kernelspec": {
   "display_name": "Python 3",
   "language": "python",
   "name": "python3"
  },
  "language_info": {
   "codemirror_mode": {
    "name": "ipython",
    "version": 3
   },
   "file_extension": ".py",
   "mimetype": "text/x-python",
   "name": "python",
   "nbconvert_exporter": "python",
   "pygments_lexer": "ipython3",
   "version": "3.7.6"
  }
 },
 "nbformat": 4,
 "nbformat_minor": 4
}
